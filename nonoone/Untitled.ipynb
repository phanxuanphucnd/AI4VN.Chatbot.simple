{
 "cells": [
  {
   "cell_type": "code",
   "execution_count": null,
   "metadata": {},
   "outputs": [],
   "source": [
    "tmps = []\n",
    "for s1 in range(40,60):\n",
    "    for s2 in range(20, 31):\n",
    "        for s3 in range(65, 80):\n",
    "            tmp = str(s1)+ \" \" + str(s2)+ \" \" + str(s1)+ \" \" + str(s1)+ \" \" + str(s3)\n",
    "            tmps.append(tmp)\n",
    "            \n",
    "            \n",
    "print(tmps)"
   ]
  }
 ],
 "metadata": {
  "kernelspec": {
   "display_name": "Python 3",
   "language": "python",
   "name": "python3"
  },
  "language_info": {
   "codemirror_mode": {
    "name": "ipython",
    "version": 3
   },
   "file_extension": ".py",
   "mimetype": "text/x-python",
   "name": "python",
   "nbconvert_exporter": "python",
   "pygments_lexer": "ipython3",
   "version": "3.6.8"
  }
 },
 "nbformat": 4,
 "nbformat_minor": 2
}
